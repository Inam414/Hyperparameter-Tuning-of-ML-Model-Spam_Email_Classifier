{
  "nbformat": 4,
  "nbformat_minor": 0,
  "metadata": {
    "colab": {
      "provenance": [],
      "mount_file_id": "1jB7Eh3QUp7x8VNn01WAz5gv7gW2Kk0gT",
      "authorship_tag": "ABX9TyPABNrxD8d5LE0fKQe3p3AG"
    },
    "kernelspec": {
      "name": "python3",
      "display_name": "Python 3"
    },
    "language_info": {
      "name": "python"
    }
  },
  "cells": [
    {
      "cell_type": "markdown",
      "source": [
        "# **Imports**"
      ],
      "metadata": {
        "id": "VOh87qVMkox4"
      }
    },
    {
      "cell_type": "code",
      "source": [
        "import pandas as pd\n",
        "from sklearn.model_selection import train_test_split, GridSearchCV, RandomizedSearchCV\n",
        "from sklearn.preprocessing import StandardScaler\n",
        "from sklearn.impute import SimpleImputer\n",
        "from sklearn.linear_model import LogisticRegression\n",
        "from sklearn.tree import DecisionTreeClassifier\n",
        "from sklearn.svm import SVC\n",
        "from sklearn.ensemble import RandomForestClassifier\n",
        "from sklearn.metrics import accuracy_score, precision_score, recall_score, f1_score\n",
        "from scipy.stats import randint, uniform\n",
        "import matplotlib.pyplot as plt\n",
        "import numpy as np"
      ],
      "metadata": {
        "id": "U6Zr3Wsbk6MJ"
      },
      "execution_count": null,
      "outputs": []
    },
    {
      "cell_type": "markdown",
      "source": [
        "# **Load and Preprocess Data**"
      ],
      "metadata": {
        "id": "WYGt-cpuk889"
      }
    },
    {
      "cell_type": "code",
      "source": [
        "file_path = \"/content/drive/MyDrive/Projects/emails.csv\"\n",
        "data = pd.read_csv(file_path, dtype={\"Email No.\": str})\n",
        "\n",
        "X = data.drop(columns=[\"Email No.\", \"Prediction\"])    # Excluded \"Email No.\" column\n",
        "y = data[\"Prediction\"]\n",
        "\n",
        "X = X.apply(pd.to_numeric, errors='coerce')           # Convert all columns to numeric\n",
        "data = data.dropna(subset=X.columns)\n",
        "\n",
        "X_train, X_test, y_train, y_test = train_test_split(X, y, test_size=0.2, random_state=42)  # Split data into train and test sets"
      ],
      "metadata": {
        "id": "gZDHc99llaTz"
      },
      "execution_count": null,
      "outputs": []
    },
    {
      "cell_type": "markdown",
      "source": [
        "# **Preprocessing**"
      ],
      "metadata": {
        "id": "NOJjbB2jlcYs"
      }
    },
    {
      "cell_type": "code",
      "source": [
        "imputer = SimpleImputer(strategy=\"mean\")\n",
        "X_train = imputer.fit_transform(X_train)\n",
        "X_test = imputer.transform(X_test)\n",
        "\n",
        "scaler = StandardScaler()\n",
        "X_train = scaler.fit_transform(X_train)\n",
        "X_test = scaler.transform(X_test)"
      ],
      "metadata": {
        "id": "VwiZlSSLmGff"
      },
      "execution_count": null,
      "outputs": []
    },
    {
      "cell_type": "markdown",
      "source": [
        "# **Training and Evaluation**\n",
        "Hyperparameter Tuning: Grid Search and Random Search\n",
        "\n",
        "Define reduced hyperparameter grids for efficiency"
      ],
      "metadata": {
        "id": "06wiihG2mKZ7"
      }
    },
    {
      "cell_type": "code",
      "source": [
        "classifiers = {\n",
        "    \"Logistic Regression\": LogisticRegression(max_iter=1000, random_state=42),\n",
        "    \"Decision Tree\": DecisionTreeClassifier(random_state=42),\n",
        "    \"Support Vector Machine\": SVC(random_state=42),\n",
        "    \"Random Forest\": RandomForestClassifier(random_state=42)\n",
        "}\n",
        "\n",
        "param_grids = {\n",
        "    \"Logistic Regression\": {\n",
        "        \"C\": [0.1, 1, 10],\n",
        "        \"solver\": [\"lbfgs\", \"liblinear\"]\n",
        "    },\n",
        "    \"Decision Tree\": {\n",
        "        \"max_depth\": [None, 10, 20],\n",
        "        \"min_samples_split\": [2, 10],\n",
        "        \"min_samples_leaf\": [1, 4]\n",
        "    },\n",
        "    \"Support Vector Machine\": {\n",
        "        \"C\": [0.1, 1, 10],\n",
        "        \"gamma\": [0.1, 0.01],\n",
        "        \"kernel\": [\"linear\", \"rbf\"]\n",
        "    },\n",
        "    \"Random Forest\": {\n",
        "        \"n_estimators\": [100, 200],\n",
        "        \"max_depth\": [None, 20],\n",
        "        \"min_samples_split\": [2, 10],\n",
        "        \"min_samples_leaf\": [1, 4]\n",
        "    }\n",
        "}"
      ],
      "metadata": {
        "id": "jlhZJHJwm-bH"
      },
      "execution_count": null,
      "outputs": []
    },
    {
      "cell_type": "markdown",
      "source": [
        "Define reduced hyperparameter distributions for random search"
      ],
      "metadata": {
        "id": "CsW7kIFLnEmT"
      }
    },
    {
      "cell_type": "code",
      "source": [
        "# Define reduced hyperparameter distributions for random search\n",
        "param_distributions = {\n",
        "    \"Logistic Regression\": {\n",
        "        \"C\": uniform(0.1, 10),\n",
        "        \"solver\": [\"lbfgs\", \"liblinear\"]\n",
        "    },\n",
        "    \"Decision Tree\": {\n",
        "        \"max_depth\": [None, 10, 20],\n",
        "        \"min_samples_split\": randint(2, 11),\n",
        "        \"min_samples_leaf\": randint(1, 5)\n",
        "    },\n",
        "    \"Support Vector Machine\": {\n",
        "        \"C\": uniform(0.1, 10),\n",
        "        \"gamma\": uniform(0.01, 0.1),\n",
        "        \"kernel\": [\"linear\", \"rbf\"]\n",
        "    },\n",
        "    \"Random Forest\": {\n",
        "        \"n_estimators\": randint(100, 201),\n",
        "        \"max_depth\": [None, 20],\n",
        "        \"min_samples_split\": randint(2, 11),\n",
        "        \"min_samples_leaf\": randint(1, 5)\n",
        "    }\n",
        "}\n",
        "\n",
        "\n",
        "def grid_search_tuning(classifier, param_grid, name):      # Function to perform grid search\n",
        "    grid_search = GridSearchCV(classifier, param_grid, cv=3, scoring='accuracy')\n",
        "    grid_search.fit(X_train, y_train)\n",
        "    best_model = grid_search.best_estimator_\n",
        "    return best_model\n",
        "\n",
        "def random_search_tuning(classifier, param_distributions, name):      # Function to perform random search\n",
        "    random_search = RandomizedSearchCV(classifier, param_distributions, n_iter=10, cv=3, scoring='accuracy', random_state=42)\n",
        "    random_search.fit(X_train, y_train)\n",
        "    best_model = random_search.best_estimator_\n",
        "    return best_model\n",
        "\n",
        "\n",
        "def train_and_evaluate(classifier, name, param_grid, param_distributions):      # Train and Evaluate Each Classifier\n",
        "    tuned_model = grid_search_tuning(classifier, param_grid, name)              # Hyperparameter Tuning\n",
        "    tuned_model = random_search_tuning(tuned_model, param_distributions, name)\n",
        "\n",
        "\n",
        "    train_accuracy = accuracy_score(y_train, tuned_model.predict(X_train))      # Model Evaluation\n",
        "    test_accuracy = accuracy_score(y_test, tuned_model.predict(X_test))\n",
        "\n",
        "    train_precision = precision_score(y_train, tuned_model.predict(X_train))\n",
        "    test_precision = precision_score(y_test, tuned_model.predict(X_test))\n",
        "\n",
        "    train_recall = recall_score(y_train, tuned_model.predict(X_train))\n",
        "    test_recall = recall_score(y_test, tuned_model.predict(X_test))\n",
        "\n",
        "    train_f1 = f1_score(y_train, tuned_model.predict(X_train))\n",
        "    test_f1 = f1_score(y_test, tuned_model.predict(X_test))\n",
        "\n",
        "    return {\n",
        "        \"name\": name,\n",
        "        \"train_accuracy\": train_accuracy,\n",
        "        \"test_accuracy\": test_accuracy,\n",
        "        \"train_precision\": train_precision,\n",
        "        \"test_precision\": test_precision,\n",
        "        \"train_recall\": train_recall,\n",
        "        \"test_recall\": test_recall,\n",
        "        \"train_f1\": train_f1,\n",
        "        \"test_f1\": test_f1\n",
        "    }\n",
        "\n",
        "# Determine the best classifier\n",
        "results = []\n",
        "for name, classifier in classifiers.items():\n",
        "    results.append(train_and_evaluate(classifier, name, param_grids[name], param_distributions[name]))\n",
        "\n",
        "best_algorithm = max(results, key=lambda x: x[\"test_accuracy\"])  # Example: based on test accuracy\n",
        "\n",
        "for result in results:\n",
        "    print(\"\\nClassifier:\", result[\"name\"])\n",
        "    print(\"Training Accuracy:\", result[\"train_accuracy\"])\n",
        "    print(\"Testing Accuracy:\", result[\"test_accuracy\"])\n",
        "    print(\"Training Precision:\", result[\"train_precision\"])\n",
        "    print(\"Testing Precision:\", result[\"test_precision\"])\n",
        "    print(\"Training Recall:\", result[\"train_recall\"])\n",
        "    print(\"Testing Recall:\", result[\"test_recall\"])\n",
        "    print(\"Training F1-score:\", result[\"train_f1\"])\n",
        "    print(\"Testing F1-score:\", result[\"test_f1\"])\n",
        "\n",
        "print(\"\\nBest performing algorithm:\", best_algorithm[\"name\"])"
      ],
      "metadata": {
        "id": "BxeXrXQznbQW"
      },
      "execution_count": null,
      "outputs": []
    },
    {
      "cell_type": "markdown",
      "source": [
        "# **Plot results**"
      ],
      "metadata": {
        "id": "XOV50fE_ngbJ"
      }
    },
    {
      "cell_type": "code",
      "execution_count": 2,
      "metadata": {
        "colab": {
          "base_uri": "https://localhost:8080/",
          "height": 1000
        },
        "id": "-LuTFgOLsqGQ",
        "outputId": "6ca63eb4-0edf-4477-e4b2-935d444a166d"
      },
      "outputs": [
        {
          "output_type": "stream",
          "name": "stdout",
          "text": [
            "Drive already mounted at /content/drive; to attempt to forcibly remount, call drive.mount(\"/content/drive\", force_remount=True).\n",
            "\n",
            "Classifier: Logistic Regression\n",
            "Training Accuracy: 0.9997582789460963\n",
            "Testing Accuracy: 0.9681159420289855\n",
            "Training Precision: 0.9991701244813278\n",
            "Testing Precision: 0.9255663430420712\n",
            "Training Recall: 1.0\n",
            "Testing Recall: 0.9662162162162162\n",
            "Training F1-score: 0.9995848899958489\n",
            "Testing F1-score: 0.9454545454545455\n",
            "\n",
            "Classifier: Decision Tree\n",
            "Training Accuracy: 0.994198694706309\n",
            "Testing Accuracy: 0.9178743961352657\n",
            "Training Precision: 0.9916666666666667\n",
            "Testing Precision: 0.8504983388704319\n",
            "Training Recall: 0.9883720930232558\n",
            "Testing Recall: 0.8648648648648649\n",
            "Training F1-score: 0.9900166389351082\n",
            "Testing F1-score: 0.8576214405360134\n",
            "\n",
            "Classifier: Support Vector Machine\n",
            "Training Accuracy: 0.9997582789460963\n",
            "Testing Accuracy: 0.9449275362318841\n",
            "Training Precision: 0.9991701244813278\n",
            "Testing Precision: 0.8867313915857605\n",
            "Training Recall: 1.0\n",
            "Testing Recall: 0.9256756756756757\n",
            "Training F1-score: 0.9995848899958489\n",
            "Testing F1-score: 0.9057851239669421\n",
            "\n",
            "Classifier: Random Forest\n",
            "Training Accuracy: 0.9951655789219241\n",
            "Testing Accuracy: 0.9710144927536232\n",
            "Training Precision: 0.9908789386401327\n",
            "Testing Precision: 0.9493243243243243\n",
            "Training Recall: 0.9925249169435216\n",
            "Testing Recall: 0.9493243243243243\n",
            "Training F1-score: 0.9917012448132781\n",
            "Testing F1-score: 0.9493243243243243\n",
            "\n",
            "Best performing algorithm: Random Forest\n"
          ]
        },
        {
          "output_type": "display_data",
          "data": {
            "text/plain": [
              "<Figure size 1200x800 with 1 Axes>"
            ],
            "image/png": "[encoded data removed]"
          },
          "metadata": {}
        }
      ],
      "source": [
        "classifiers = [result[\"name\"] for result in results]\n",
        "test_accuracies = [result[\"test_accuracy\"] for result in results]\n",
        "test_precisions = [result[\"test_precision\"] for result in results]\n",
        "test_recalls = [result[\"test_recall\"] for result in results]\n",
        "test_f1_scores = [result[\"test_f1\"] for result in results]\n",
        "\n",
        "x = np.arange(len(classifiers))\n",
        "width = 0.2\n",
        "\n",
        "fig, ax = plt.subplots(figsize=(12, 8))\n",
        "\n",
        "rects1 = ax.bar(x - 1.5*width, test_accuracies, width, label='Accuracy')\n",
        "rects2 = ax.bar(x - 0.5*width, test_precisions, width, label='Precision')\n",
        "rects3 = ax.bar(x + 0.5*width, test_recalls, width, label='Recall')\n",
        "rects4 = ax.bar(x + 1.5*width, test_f1_scores, width, label='F1-score')\n",
        "\n",
        "ax.set_xlabel('Classifiers')\n",
        "ax.set_ylabel('Scores')\n",
        "ax.set_title('Performance of Different Classifiers')\n",
        "ax.set_xticks(x)\n",
        "ax.set_xticklabels(classifiers)\n",
        "ax.legend()\n",
        "\n",
        "def autolabel(rects):\n",
        "    for rect in rects:\n",
        "        height = rect.get_height()\n",
        "        ax.annotate('{}'.format(round(height, 2)),\n",
        "                    xy=(rect.get_x() + rect.get_width() / 2, height),\n",
        "                    xytext=(0, 3),  # 3 points vertical\n",
        "                    textcoords=\"offset points\",\n",
        "                    ha='center', va='bottom')\n",
        "\n",
        "autolabel(rects1)\n",
        "autolabel(rects2)\n",
        "autolabel(rects3)\n",
        "autolabel(rects4)\n",
        "\n",
        "plt.show()\n"
      ]
    }
  ]
}